{
 "cells": [
  {
   "cell_type": "markdown",
   "metadata": {},
   "source": [
    "# RDKit Cookbook\n",
    "## Introduction\n",
    "\n",
    "The goal of this notebook is to learn more about RDKit functionality using Python. The information and examples below have has been taken from the [RDKit Cookbook](https://www.rdkit.org/docs/Cookbook.html)."
   ]
  },
  {
   "cell_type": "markdown",
   "metadata": {},
   "source": [
    "### Model Imports"
   ]
  },
  {
   "cell_type": "code",
   "execution_count": 2,
   "metadata": {},
   "outputs": [],
   "source": [
    "from rdkit import Chem"
   ]
  },
  {
   "cell_type": "markdown",
   "metadata": {},
   "source": [
    "### Drawing Molecules\n",
    "Drawing a molecule with atom index numbers"
   ]
  }
 ],
 "metadata": {
  "kernelspec": {
   "display_name": "rdkit-cookbook-venv",
   "language": "python",
   "name": "rdkit-cookbook-venv"
  },
  "language_info": {
   "codemirror_mode": {
    "name": "ipython",
    "version": 3
   },
   "file_extension": ".py",
   "mimetype": "text/x-python",
   "name": "python",
   "nbconvert_exporter": "python",
   "pygments_lexer": "ipython3",
   "version": "3.9.0rc1"
  }
 },
 "nbformat": 4,
 "nbformat_minor": 2
}
